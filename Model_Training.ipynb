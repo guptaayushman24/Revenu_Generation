{
 "cells": [
  {
   "cell_type": "code",
   "execution_count": 1,
   "metadata": {},
   "outputs": [],
   "source": [
    "# Imporint Libraries\n",
    "import pandas as pd\n",
    "import numpy as np\n",
    "import seaborn as sns\n",
    "import matplotlib.pyplot as plt\n",
    "%matplotlib inline\n",
    "import warnings\n",
    "warnings.filterwarnings('ignore')"
   ]
  },
  {
   "cell_type": "code",
   "execution_count": 2,
   "metadata": {},
   "outputs": [],
   "source": [
    "# Loading the clean dataset for the model training\n",
    "df_clean = pd.read_csv(r'E:\\Revenue_Generation\\df_clean.csv')"
   ]
  },
  {
   "cell_type": "code",
   "execution_count": 3,
   "metadata": {},
   "outputs": [
    {
     "data": {
      "text/html": [
       "<div>\n",
       "<style scoped>\n",
       "    .dataframe tbody tr th:only-of-type {\n",
       "        vertical-align: middle;\n",
       "    }\n",
       "\n",
       "    .dataframe tbody tr th {\n",
       "        vertical-align: top;\n",
       "    }\n",
       "\n",
       "    .dataframe thead th {\n",
       "        text-align: right;\n",
       "    }\n",
       "</style>\n",
       "<table border=\"1\" class=\"dataframe\">\n",
       "  <thead>\n",
       "    <tr style=\"text-align: right;\">\n",
       "      <th></th>\n",
       "      <th>booking_id</th>\n",
       "      <th>property_id</th>\n",
       "      <th>booking_date</th>\n",
       "      <th>check_in_date</th>\n",
       "      <th>checkout_date</th>\n",
       "      <th>no_guests</th>\n",
       "      <th>room_category</th>\n",
       "      <th>booking_platform</th>\n",
       "      <th>ratings_given</th>\n",
       "      <th>booking_status</th>\n",
       "      <th>revenue_generated</th>\n",
       "      <th>revenue_realized</th>\n",
       "      <th>booking_data</th>\n",
       "      <th>booking_date_month</th>\n",
       "      <th>check_in_date_month_name</th>\n",
       "      <th>no_of_days_stays</th>\n",
       "    </tr>\n",
       "  </thead>\n",
       "  <tbody>\n",
       "    <tr>\n",
       "      <th>0</th>\n",
       "      <td>May012216558RT11</td>\n",
       "      <td>16558</td>\n",
       "      <td>2022-04-27</td>\n",
       "      <td>2022-05-01</td>\n",
       "      <td>2022-05-02</td>\n",
       "      <td>Three Guests</td>\n",
       "      <td>Standard</td>\n",
       "      <td>direct online</td>\n",
       "      <td>1.000000</td>\n",
       "      <td>Checked Out</td>\n",
       "      <td>10010</td>\n",
       "      <td>10010</td>\n",
       "      <td>2022-04-27</td>\n",
       "      <td>April</td>\n",
       "      <td>May</td>\n",
       "      <td>One Day</td>\n",
       "    </tr>\n",
       "    <tr>\n",
       "      <th>1</th>\n",
       "      <td>May012216558RT12</td>\n",
       "      <td>16558</td>\n",
       "      <td>2022-04-30</td>\n",
       "      <td>2022-05-01</td>\n",
       "      <td>2022-05-02</td>\n",
       "      <td>Two Guests</td>\n",
       "      <td>Standard</td>\n",
       "      <td>others</td>\n",
       "      <td>3.619004</td>\n",
       "      <td>Cancelled</td>\n",
       "      <td>9100</td>\n",
       "      <td>3640</td>\n",
       "      <td>2022-04-30</td>\n",
       "      <td>April</td>\n",
       "      <td>May</td>\n",
       "      <td>One Day</td>\n",
       "    </tr>\n",
       "    <tr>\n",
       "      <th>2</th>\n",
       "      <td>May012216558RT13</td>\n",
       "      <td>16558</td>\n",
       "      <td>2022-04-28</td>\n",
       "      <td>2022-05-01</td>\n",
       "      <td>2022-05-04</td>\n",
       "      <td>Two Guests</td>\n",
       "      <td>Standard</td>\n",
       "      <td>logtrip</td>\n",
       "      <td>5.000000</td>\n",
       "      <td>Checked Out</td>\n",
       "      <td>9100</td>\n",
       "      <td>9100</td>\n",
       "      <td>2022-04-28</td>\n",
       "      <td>April</td>\n",
       "      <td>May</td>\n",
       "      <td>Three Day</td>\n",
       "    </tr>\n",
       "    <tr>\n",
       "      <th>3</th>\n",
       "      <td>May012216558RT14</td>\n",
       "      <td>16558</td>\n",
       "      <td>2022-04-28</td>\n",
       "      <td>2022-05-01</td>\n",
       "      <td>2022-05-02</td>\n",
       "      <td>Two Guests</td>\n",
       "      <td>Standard</td>\n",
       "      <td>others</td>\n",
       "      <td>3.619004</td>\n",
       "      <td>Cancelled</td>\n",
       "      <td>9100</td>\n",
       "      <td>3640</td>\n",
       "      <td>2022-04-28</td>\n",
       "      <td>April</td>\n",
       "      <td>May</td>\n",
       "      <td>One Day</td>\n",
       "    </tr>\n",
       "    <tr>\n",
       "      <th>4</th>\n",
       "      <td>May012216558RT15</td>\n",
       "      <td>16558</td>\n",
       "      <td>2022-04-27</td>\n",
       "      <td>2022-05-01</td>\n",
       "      <td>2022-05-02</td>\n",
       "      <td>Four Guests</td>\n",
       "      <td>Standard</td>\n",
       "      <td>direct online</td>\n",
       "      <td>5.000000</td>\n",
       "      <td>Checked Out</td>\n",
       "      <td>10920</td>\n",
       "      <td>10920</td>\n",
       "      <td>2022-04-27</td>\n",
       "      <td>April</td>\n",
       "      <td>May</td>\n",
       "      <td>One Day</td>\n",
       "    </tr>\n",
       "  </tbody>\n",
       "</table>\n",
       "</div>"
      ],
      "text/plain": [
       "         booking_id  property_id booking_date check_in_date checkout_date  \\\n",
       "0  May012216558RT11        16558   2022-04-27    2022-05-01    2022-05-02   \n",
       "1  May012216558RT12        16558   2022-04-30    2022-05-01    2022-05-02   \n",
       "2  May012216558RT13        16558   2022-04-28    2022-05-01    2022-05-04   \n",
       "3  May012216558RT14        16558   2022-04-28    2022-05-01    2022-05-02   \n",
       "4  May012216558RT15        16558   2022-04-27    2022-05-01    2022-05-02   \n",
       "\n",
       "      no_guests room_category booking_platform  ratings_given booking_status  \\\n",
       "0  Three Guests      Standard    direct online       1.000000    Checked Out   \n",
       "1    Two Guests      Standard           others       3.619004      Cancelled   \n",
       "2    Two Guests      Standard          logtrip       5.000000    Checked Out   \n",
       "3    Two Guests      Standard           others       3.619004      Cancelled   \n",
       "4   Four Guests      Standard    direct online       5.000000    Checked Out   \n",
       "\n",
       "   revenue_generated  revenue_realized booking_data booking_date_month  \\\n",
       "0              10010             10010   2022-04-27              April   \n",
       "1               9100              3640   2022-04-30              April   \n",
       "2               9100              9100   2022-04-28              April   \n",
       "3               9100              3640   2022-04-28              April   \n",
       "4              10920             10920   2022-04-27              April   \n",
       "\n",
       "  check_in_date_month_name no_of_days_stays  \n",
       "0                      May          One Day  \n",
       "1                      May          One Day  \n",
       "2                      May        Three Day  \n",
       "3                      May          One Day  \n",
       "4                      May          One Day  "
      ]
     },
     "execution_count": 3,
     "metadata": {},
     "output_type": "execute_result"
    }
   ],
   "source": [
    "df_clean.head()"
   ]
  },
  {
   "cell_type": "code",
   "execution_count": 4,
   "metadata": {},
   "outputs": [
    {
     "data": {
      "text/html": [
       "<div>\n",
       "<style scoped>\n",
       "    .dataframe tbody tr th:only-of-type {\n",
       "        vertical-align: middle;\n",
       "    }\n",
       "\n",
       "    .dataframe tbody tr th {\n",
       "        vertical-align: top;\n",
       "    }\n",
       "\n",
       "    .dataframe thead th {\n",
       "        text-align: right;\n",
       "    }\n",
       "</style>\n",
       "<table border=\"1\" class=\"dataframe\">\n",
       "  <thead>\n",
       "    <tr style=\"text-align: right;\">\n",
       "      <th></th>\n",
       "      <th>booking_id</th>\n",
       "      <th>property_id</th>\n",
       "      <th>booking_date</th>\n",
       "      <th>check_in_date</th>\n",
       "      <th>checkout_date</th>\n",
       "      <th>no_guests</th>\n",
       "      <th>room_category</th>\n",
       "      <th>booking_platform</th>\n",
       "      <th>ratings_given</th>\n",
       "      <th>booking_status</th>\n",
       "      <th>revenue_generated</th>\n",
       "      <th>revenue_realized</th>\n",
       "      <th>booking_data</th>\n",
       "      <th>booking_date_month</th>\n",
       "      <th>check_in_date_month_name</th>\n",
       "      <th>no_of_days_stays</th>\n",
       "    </tr>\n",
       "  </thead>\n",
       "  <tbody>\n",
       "    <tr>\n",
       "      <th>134585</th>\n",
       "      <td>Jul312217564RT46</td>\n",
       "      <td>17564</td>\n",
       "      <td>2022-07-29</td>\n",
       "      <td>2022-07-31</td>\n",
       "      <td>2022-08-03</td>\n",
       "      <td>One Guests</td>\n",
       "      <td>Presidential</td>\n",
       "      <td>makeyourtrip</td>\n",
       "      <td>2.000000</td>\n",
       "      <td>Checked Out</td>\n",
       "      <td>32300</td>\n",
       "      <td>32300</td>\n",
       "      <td>2022-07-29</td>\n",
       "      <td>July</td>\n",
       "      <td>July</td>\n",
       "      <td>Three Day</td>\n",
       "    </tr>\n",
       "    <tr>\n",
       "      <th>134586</th>\n",
       "      <td>Jul312217564RT47</td>\n",
       "      <td>17564</td>\n",
       "      <td>2022-07-30</td>\n",
       "      <td>2022-07-31</td>\n",
       "      <td>2022-08-01</td>\n",
       "      <td>Four Guests</td>\n",
       "      <td>Presidential</td>\n",
       "      <td>logtrip</td>\n",
       "      <td>2.000000</td>\n",
       "      <td>Checked Out</td>\n",
       "      <td>38760</td>\n",
       "      <td>38760</td>\n",
       "      <td>2022-07-30</td>\n",
       "      <td>July</td>\n",
       "      <td>July</td>\n",
       "      <td>One Day</td>\n",
       "    </tr>\n",
       "    <tr>\n",
       "      <th>134587</th>\n",
       "      <td>Jul312217564RT48</td>\n",
       "      <td>17564</td>\n",
       "      <td>2022-07-30</td>\n",
       "      <td>2022-07-31</td>\n",
       "      <td>2022-08-02</td>\n",
       "      <td>One Guests</td>\n",
       "      <td>Presidential</td>\n",
       "      <td>tripster</td>\n",
       "      <td>3.619004</td>\n",
       "      <td>Cancelled</td>\n",
       "      <td>32300</td>\n",
       "      <td>12920</td>\n",
       "      <td>2022-07-30</td>\n",
       "      <td>July</td>\n",
       "      <td>July</td>\n",
       "      <td>Two Day</td>\n",
       "    </tr>\n",
       "    <tr>\n",
       "      <th>134588</th>\n",
       "      <td>Jul312217564RT49</td>\n",
       "      <td>17564</td>\n",
       "      <td>2022-07-29</td>\n",
       "      <td>2022-07-31</td>\n",
       "      <td>2022-08-01</td>\n",
       "      <td>Two Guests</td>\n",
       "      <td>Presidential</td>\n",
       "      <td>logtrip</td>\n",
       "      <td>2.000000</td>\n",
       "      <td>Checked Out</td>\n",
       "      <td>32300</td>\n",
       "      <td>32300</td>\n",
       "      <td>2022-07-29</td>\n",
       "      <td>July</td>\n",
       "      <td>July</td>\n",
       "      <td>One Day</td>\n",
       "    </tr>\n",
       "    <tr>\n",
       "      <th>134589</th>\n",
       "      <td>Jul312217564RT410</td>\n",
       "      <td>17564</td>\n",
       "      <td>2022-07-31</td>\n",
       "      <td>2022-07-31</td>\n",
       "      <td>2022-08-01</td>\n",
       "      <td>Two Guests</td>\n",
       "      <td>Presidential</td>\n",
       "      <td>makeyourtrip</td>\n",
       "      <td>3.619004</td>\n",
       "      <td>Cancelled</td>\n",
       "      <td>32300</td>\n",
       "      <td>12920</td>\n",
       "      <td>2022-07-31</td>\n",
       "      <td>July</td>\n",
       "      <td>July</td>\n",
       "      <td>One Day</td>\n",
       "    </tr>\n",
       "  </tbody>\n",
       "</table>\n",
       "</div>"
      ],
      "text/plain": [
       "               booking_id  property_id booking_date check_in_date  \\\n",
       "134585   Jul312217564RT46        17564   2022-07-29    2022-07-31   \n",
       "134586   Jul312217564RT47        17564   2022-07-30    2022-07-31   \n",
       "134587   Jul312217564RT48        17564   2022-07-30    2022-07-31   \n",
       "134588   Jul312217564RT49        17564   2022-07-29    2022-07-31   \n",
       "134589  Jul312217564RT410        17564   2022-07-31    2022-07-31   \n",
       "\n",
       "       checkout_date    no_guests room_category booking_platform  \\\n",
       "134585    2022-08-03   One Guests  Presidential     makeyourtrip   \n",
       "134586    2022-08-01  Four Guests  Presidential          logtrip   \n",
       "134587    2022-08-02   One Guests  Presidential         tripster   \n",
       "134588    2022-08-01   Two Guests  Presidential          logtrip   \n",
       "134589    2022-08-01   Two Guests  Presidential     makeyourtrip   \n",
       "\n",
       "        ratings_given booking_status  revenue_generated  revenue_realized  \\\n",
       "134585       2.000000    Checked Out              32300             32300   \n",
       "134586       2.000000    Checked Out              38760             38760   \n",
       "134587       3.619004      Cancelled              32300             12920   \n",
       "134588       2.000000    Checked Out              32300             32300   \n",
       "134589       3.619004      Cancelled              32300             12920   \n",
       "\n",
       "       booking_data booking_date_month check_in_date_month_name  \\\n",
       "134585   2022-07-29               July                     July   \n",
       "134586   2022-07-30               July                     July   \n",
       "134587   2022-07-30               July                     July   \n",
       "134588   2022-07-29               July                     July   \n",
       "134589   2022-07-31               July                     July   \n",
       "\n",
       "       no_of_days_stays  \n",
       "134585        Three Day  \n",
       "134586          One Day  \n",
       "134587          Two Day  \n",
       "134588          One Day  \n",
       "134589          One Day  "
      ]
     },
     "execution_count": 4,
     "metadata": {},
     "output_type": "execute_result"
    }
   ],
   "source": [
    "df_clean.tail()"
   ]
  },
  {
   "cell_type": "code",
   "execution_count": 5,
   "metadata": {},
   "outputs": [],
   "source": [
    "# Dropping the booking_id,property_id column\n",
    "df_clean.drop(['booking_id','property_id'],axis=1,inplace=True)"
   ]
  },
  {
   "cell_type": "code",
   "execution_count": 6,
   "metadata": {},
   "outputs": [
    {
     "data": {
      "text/html": [
       "<div>\n",
       "<style scoped>\n",
       "    .dataframe tbody tr th:only-of-type {\n",
       "        vertical-align: middle;\n",
       "    }\n",
       "\n",
       "    .dataframe tbody tr th {\n",
       "        vertical-align: top;\n",
       "    }\n",
       "\n",
       "    .dataframe thead th {\n",
       "        text-align: right;\n",
       "    }\n",
       "</style>\n",
       "<table border=\"1\" class=\"dataframe\">\n",
       "  <thead>\n",
       "    <tr style=\"text-align: right;\">\n",
       "      <th></th>\n",
       "      <th>booking_date</th>\n",
       "      <th>check_in_date</th>\n",
       "      <th>checkout_date</th>\n",
       "      <th>no_guests</th>\n",
       "      <th>room_category</th>\n",
       "      <th>booking_platform</th>\n",
       "      <th>ratings_given</th>\n",
       "      <th>booking_status</th>\n",
       "      <th>revenue_generated</th>\n",
       "      <th>revenue_realized</th>\n",
       "      <th>booking_data</th>\n",
       "      <th>booking_date_month</th>\n",
       "      <th>check_in_date_month_name</th>\n",
       "      <th>no_of_days_stays</th>\n",
       "    </tr>\n",
       "  </thead>\n",
       "  <tbody>\n",
       "    <tr>\n",
       "      <th>0</th>\n",
       "      <td>2022-04-27</td>\n",
       "      <td>2022-05-01</td>\n",
       "      <td>2022-05-02</td>\n",
       "      <td>Three Guests</td>\n",
       "      <td>Standard</td>\n",
       "      <td>direct online</td>\n",
       "      <td>1.000000</td>\n",
       "      <td>Checked Out</td>\n",
       "      <td>10010</td>\n",
       "      <td>10010</td>\n",
       "      <td>2022-04-27</td>\n",
       "      <td>April</td>\n",
       "      <td>May</td>\n",
       "      <td>One Day</td>\n",
       "    </tr>\n",
       "    <tr>\n",
       "      <th>1</th>\n",
       "      <td>2022-04-30</td>\n",
       "      <td>2022-05-01</td>\n",
       "      <td>2022-05-02</td>\n",
       "      <td>Two Guests</td>\n",
       "      <td>Standard</td>\n",
       "      <td>others</td>\n",
       "      <td>3.619004</td>\n",
       "      <td>Cancelled</td>\n",
       "      <td>9100</td>\n",
       "      <td>3640</td>\n",
       "      <td>2022-04-30</td>\n",
       "      <td>April</td>\n",
       "      <td>May</td>\n",
       "      <td>One Day</td>\n",
       "    </tr>\n",
       "    <tr>\n",
       "      <th>2</th>\n",
       "      <td>2022-04-28</td>\n",
       "      <td>2022-05-01</td>\n",
       "      <td>2022-05-04</td>\n",
       "      <td>Two Guests</td>\n",
       "      <td>Standard</td>\n",
       "      <td>logtrip</td>\n",
       "      <td>5.000000</td>\n",
       "      <td>Checked Out</td>\n",
       "      <td>9100</td>\n",
       "      <td>9100</td>\n",
       "      <td>2022-04-28</td>\n",
       "      <td>April</td>\n",
       "      <td>May</td>\n",
       "      <td>Three Day</td>\n",
       "    </tr>\n",
       "    <tr>\n",
       "      <th>3</th>\n",
       "      <td>2022-04-28</td>\n",
       "      <td>2022-05-01</td>\n",
       "      <td>2022-05-02</td>\n",
       "      <td>Two Guests</td>\n",
       "      <td>Standard</td>\n",
       "      <td>others</td>\n",
       "      <td>3.619004</td>\n",
       "      <td>Cancelled</td>\n",
       "      <td>9100</td>\n",
       "      <td>3640</td>\n",
       "      <td>2022-04-28</td>\n",
       "      <td>April</td>\n",
       "      <td>May</td>\n",
       "      <td>One Day</td>\n",
       "    </tr>\n",
       "    <tr>\n",
       "      <th>4</th>\n",
       "      <td>2022-04-27</td>\n",
       "      <td>2022-05-01</td>\n",
       "      <td>2022-05-02</td>\n",
       "      <td>Four Guests</td>\n",
       "      <td>Standard</td>\n",
       "      <td>direct online</td>\n",
       "      <td>5.000000</td>\n",
       "      <td>Checked Out</td>\n",
       "      <td>10920</td>\n",
       "      <td>10920</td>\n",
       "      <td>2022-04-27</td>\n",
       "      <td>April</td>\n",
       "      <td>May</td>\n",
       "      <td>One Day</td>\n",
       "    </tr>\n",
       "  </tbody>\n",
       "</table>\n",
       "</div>"
      ],
      "text/plain": [
       "  booking_date check_in_date checkout_date     no_guests room_category  \\\n",
       "0   2022-04-27    2022-05-01    2022-05-02  Three Guests      Standard   \n",
       "1   2022-04-30    2022-05-01    2022-05-02    Two Guests      Standard   \n",
       "2   2022-04-28    2022-05-01    2022-05-04    Two Guests      Standard   \n",
       "3   2022-04-28    2022-05-01    2022-05-02    Two Guests      Standard   \n",
       "4   2022-04-27    2022-05-01    2022-05-02   Four Guests      Standard   \n",
       "\n",
       "  booking_platform  ratings_given booking_status  revenue_generated  \\\n",
       "0    direct online       1.000000    Checked Out              10010   \n",
       "1           others       3.619004      Cancelled               9100   \n",
       "2          logtrip       5.000000    Checked Out               9100   \n",
       "3           others       3.619004      Cancelled               9100   \n",
       "4    direct online       5.000000    Checked Out              10920   \n",
       "\n",
       "   revenue_realized booking_data booking_date_month check_in_date_month_name  \\\n",
       "0             10010   2022-04-27              April                      May   \n",
       "1              3640   2022-04-30              April                      May   \n",
       "2              9100   2022-04-28              April                      May   \n",
       "3              3640   2022-04-28              April                      May   \n",
       "4             10920   2022-04-27              April                      May   \n",
       "\n",
       "  no_of_days_stays  \n",
       "0          One Day  \n",
       "1          One Day  \n",
       "2        Three Day  \n",
       "3          One Day  \n",
       "4          One Day  "
      ]
     },
     "execution_count": 6,
     "metadata": {},
     "output_type": "execute_result"
    }
   ],
   "source": [
    "df_clean.head()"
   ]
  },
  {
   "cell_type": "code",
   "execution_count": 7,
   "metadata": {},
   "outputs": [
    {
     "data": {
      "text/plain": [
       "dtype('O')"
      ]
     },
     "execution_count": 7,
     "metadata": {},
     "output_type": "execute_result"
    }
   ],
   "source": [
    "df_clean['checkout_date'].dtypes"
   ]
  },
  {
   "cell_type": "code",
   "execution_count": 8,
   "metadata": {},
   "outputs": [],
   "source": [
    "df_clean['checkout_date'] = pd.to_datetime(df_clean['checkout_date'])"
   ]
  },
  {
   "cell_type": "code",
   "execution_count": 9,
   "metadata": {},
   "outputs": [],
   "source": [
    "# Extracting the month column from the check_out_date\n",
    "df_clean['check_out_date_month_name'] = df_clean['checkout_date'].dt.month_name()"
   ]
  },
  {
   "cell_type": "code",
   "execution_count": 10,
   "metadata": {},
   "outputs": [],
   "source": [
    "# Dropping the booking_date,check_in_data and checkout_date column from the dataframe\n",
    "df_clean.drop(['booking_date','check_in_date','checkout_date'],axis=1,inplace=True)"
   ]
  },
  {
   "cell_type": "code",
   "execution_count": 11,
   "metadata": {},
   "outputs": [],
   "source": [
    "# Dropping the booking_date,check_in_data and checkout_date column from the dataframe\n",
    "df_clean.drop(['booking_data'],axis=1,inplace=True)"
   ]
  },
  {
   "cell_type": "code",
   "execution_count": 12,
   "metadata": {},
   "outputs": [
    {
     "data": {
      "text/plain": [
       "array(['Three Guests', 'Two Guests', 'Four Guests', 'One Guests',\n",
       "       'Six Guests', 'Five Guests'], dtype=object)"
      ]
     },
     "execution_count": 12,
     "metadata": {},
     "output_type": "execute_result"
    }
   ],
   "source": [
    "df_clean['no_guests'].unique()"
   ]
  },
  {
   "cell_type": "code",
   "execution_count": 13,
   "metadata": {},
   "outputs": [],
   "source": [
    "# Converting the no_guests column into numbers\n",
    "df_clean['no_guests']=df_clean['no_guests'].map({'One Guests':1,'Two Guests':2,'Three Guests':3,'Four Guests':4,'Five Guests':5,'Six Guests':6})"
   ]
  },
  {
   "cell_type": "code",
   "execution_count": 14,
   "metadata": {},
   "outputs": [
    {
     "data": {
      "text/plain": [
       "array(['Standard', 'Elite', 'Premium', 'Presidential'], dtype=object)"
      ]
     },
     "execution_count": 14,
     "metadata": {},
     "output_type": "execute_result"
    }
   ],
   "source": [
    "df_clean['room_category'].unique()"
   ]
  },
  {
   "cell_type": "code",
   "execution_count": 15,
   "metadata": {},
   "outputs": [],
   "source": [
    "# Converting the room category column into numbers\n",
    "df_clean['room_category'] = df_clean['room_category'].map({'Standard':1,'Elite':2,'Premium':3,'Presidential':4})"
   ]
  },
  {
   "cell_type": "code",
   "execution_count": 16,
   "metadata": {},
   "outputs": [
    {
     "data": {
      "text/plain": [
       "array(['direct online', 'others', 'logtrip', 'tripster', 'makeyourtrip',\n",
       "       'journey', 'direct offline'], dtype=object)"
      ]
     },
     "execution_count": 16,
     "metadata": {},
     "output_type": "execute_result"
    }
   ],
   "source": [
    "df_clean['booking_platform'].unique()"
   ]
  },
  {
   "cell_type": "code",
   "execution_count": 17,
   "metadata": {},
   "outputs": [],
   "source": [
    "# Converting the booking platform column into numbers\n",
    "df_clean['booking_platform'] = df_clean['booking_platform'].map({'direct online':1,'makeyourtrip':2,'journey':3,'logtrip':4,'tripster':5,'direct offline':6,'others':7})"
   ]
  },
  {
   "cell_type": "code",
   "execution_count": 18,
   "metadata": {},
   "outputs": [
    {
     "data": {
      "text/plain": [
       "array(['Checked Out', 'Cancelled', 'No Show'], dtype=object)"
      ]
     },
     "execution_count": 18,
     "metadata": {},
     "output_type": "execute_result"
    }
   ],
   "source": [
    "df_clean['booking_status'].unique()"
   ]
  },
  {
   "cell_type": "code",
   "execution_count": 19,
   "metadata": {},
   "outputs": [],
   "source": [
    "# Converting the booking status column into numbers\n",
    "df_clean['booking_status'] = df_clean['booking_status'].map({'Checked Out':1,'Cancelled':2,'No Show':3})"
   ]
  },
  {
   "cell_type": "code",
   "execution_count": 20,
   "metadata": {},
   "outputs": [
    {
     "data": {
      "text/plain": [
       "array(['One Day', 'Three Day', 'Two Day', 'Five Day', 'Six Day',\n",
       "       'Four Day'], dtype=object)"
      ]
     },
     "execution_count": 20,
     "metadata": {},
     "output_type": "execute_result"
    }
   ],
   "source": [
    "df_clean['no_of_days_stays'].unique()"
   ]
  },
  {
   "cell_type": "code",
   "execution_count": 21,
   "metadata": {},
   "outputs": [],
   "source": [
    "# # Converting the no of days stays status column into numbers\n",
    "# df_clean['no_of_days_stays'] = df_clean['no_of_days_stays'].map({'One Day':1,'Two Day':2,' Three Day':3,'Four Day':4,'Five Day':5,'Six Day':6})"
   ]
  },
  {
   "cell_type": "code",
   "execution_count": 22,
   "metadata": {},
   "outputs": [
    {
     "data": {
      "text/plain": [
       "array(['One Day', 'Three Day', 'Two Day', 'Five Day', 'Six Day',\n",
       "       'Four Day'], dtype=object)"
      ]
     },
     "execution_count": 22,
     "metadata": {},
     "output_type": "execute_result"
    }
   ],
   "source": [
    "df_clean['no_of_days_stays'].unique()"
   ]
  },
  {
   "cell_type": "code",
   "execution_count": 23,
   "metadata": {},
   "outputs": [
    {
     "data": {
      "text/plain": [
       "array(['April', 'May', 'June', 'July'], dtype=object)"
      ]
     },
     "execution_count": 23,
     "metadata": {},
     "output_type": "execute_result"
    }
   ],
   "source": [
    "df_clean['booking_date_month'].unique()"
   ]
  },
  {
   "cell_type": "code",
   "execution_count": 24,
   "metadata": {},
   "outputs": [],
   "source": [
    "month_mapping = {\n",
    "    'January': 1,\n",
    "    'February': 2,\n",
    "    'March': 3,\n",
    "    'April': 4,\n",
    "    'May': 5,\n",
    "    'June': 6,\n",
    "    'July': 7,\n",
    "    'August': 8,\n",
    "    'September': 9,\n",
    "    'October': 10,\n",
    "    'November': 11,\n",
    "    'December': 12,\n",
    "}"
   ]
  },
  {
   "cell_type": "code",
   "execution_count": 25,
   "metadata": {},
   "outputs": [],
   "source": [
    "# Converting the months into numbers\n",
    "df_clean['booking_date_month'] = df_clean['booking_date_month'].map(month_mapping)\n",
    "df_clean['check_in_date_month_name'] = df_clean['check_in_date_month_name'].map(month_mapping)\n",
    "df_clean['check_out_date_month_name'] = df_clean['check_out_date_month_name'].map(month_mapping)"
   ]
  },
  {
   "cell_type": "code",
   "execution_count": 26,
   "metadata": {},
   "outputs": [
    {
     "data": {
      "text/html": [
       "<div>\n",
       "<style scoped>\n",
       "    .dataframe tbody tr th:only-of-type {\n",
       "        vertical-align: middle;\n",
       "    }\n",
       "\n",
       "    .dataframe tbody tr th {\n",
       "        vertical-align: top;\n",
       "    }\n",
       "\n",
       "    .dataframe thead th {\n",
       "        text-align: right;\n",
       "    }\n",
       "</style>\n",
       "<table border=\"1\" class=\"dataframe\">\n",
       "  <thead>\n",
       "    <tr style=\"text-align: right;\">\n",
       "      <th></th>\n",
       "      <th>no_guests</th>\n",
       "      <th>room_category</th>\n",
       "      <th>booking_platform</th>\n",
       "      <th>ratings_given</th>\n",
       "      <th>booking_status</th>\n",
       "      <th>revenue_generated</th>\n",
       "      <th>revenue_realized</th>\n",
       "      <th>booking_date_month</th>\n",
       "      <th>check_in_date_month_name</th>\n",
       "      <th>no_of_days_stays</th>\n",
       "      <th>check_out_date_month_name</th>\n",
       "    </tr>\n",
       "  </thead>\n",
       "  <tbody>\n",
       "    <tr>\n",
       "      <th>0</th>\n",
       "      <td>3</td>\n",
       "      <td>1</td>\n",
       "      <td>1</td>\n",
       "      <td>1.000000</td>\n",
       "      <td>1</td>\n",
       "      <td>10010</td>\n",
       "      <td>10010</td>\n",
       "      <td>4</td>\n",
       "      <td>5</td>\n",
       "      <td>One Day</td>\n",
       "      <td>5</td>\n",
       "    </tr>\n",
       "    <tr>\n",
       "      <th>1</th>\n",
       "      <td>2</td>\n",
       "      <td>1</td>\n",
       "      <td>7</td>\n",
       "      <td>3.619004</td>\n",
       "      <td>2</td>\n",
       "      <td>9100</td>\n",
       "      <td>3640</td>\n",
       "      <td>4</td>\n",
       "      <td>5</td>\n",
       "      <td>One Day</td>\n",
       "      <td>5</td>\n",
       "    </tr>\n",
       "    <tr>\n",
       "      <th>2</th>\n",
       "      <td>2</td>\n",
       "      <td>1</td>\n",
       "      <td>4</td>\n",
       "      <td>5.000000</td>\n",
       "      <td>1</td>\n",
       "      <td>9100</td>\n",
       "      <td>9100</td>\n",
       "      <td>4</td>\n",
       "      <td>5</td>\n",
       "      <td>Three Day</td>\n",
       "      <td>5</td>\n",
       "    </tr>\n",
       "    <tr>\n",
       "      <th>3</th>\n",
       "      <td>2</td>\n",
       "      <td>1</td>\n",
       "      <td>7</td>\n",
       "      <td>3.619004</td>\n",
       "      <td>2</td>\n",
       "      <td>9100</td>\n",
       "      <td>3640</td>\n",
       "      <td>4</td>\n",
       "      <td>5</td>\n",
       "      <td>One Day</td>\n",
       "      <td>5</td>\n",
       "    </tr>\n",
       "    <tr>\n",
       "      <th>4</th>\n",
       "      <td>4</td>\n",
       "      <td>1</td>\n",
       "      <td>1</td>\n",
       "      <td>5.000000</td>\n",
       "      <td>1</td>\n",
       "      <td>10920</td>\n",
       "      <td>10920</td>\n",
       "      <td>4</td>\n",
       "      <td>5</td>\n",
       "      <td>One Day</td>\n",
       "      <td>5</td>\n",
       "    </tr>\n",
       "  </tbody>\n",
       "</table>\n",
       "</div>"
      ],
      "text/plain": [
       "   no_guests  room_category  booking_platform  ratings_given  booking_status  \\\n",
       "0          3              1                 1       1.000000               1   \n",
       "1          2              1                 7       3.619004               2   \n",
       "2          2              1                 4       5.000000               1   \n",
       "3          2              1                 7       3.619004               2   \n",
       "4          4              1                 1       5.000000               1   \n",
       "\n",
       "   revenue_generated  revenue_realized  booking_date_month  \\\n",
       "0              10010             10010                   4   \n",
       "1               9100              3640                   4   \n",
       "2               9100              9100                   4   \n",
       "3               9100              3640                   4   \n",
       "4              10920             10920                   4   \n",
       "\n",
       "   check_in_date_month_name no_of_days_stays  check_out_date_month_name  \n",
       "0                         5          One Day                          5  \n",
       "1                         5          One Day                          5  \n",
       "2                         5        Three Day                          5  \n",
       "3                         5          One Day                          5  \n",
       "4                         5          One Day                          5  "
      ]
     },
     "execution_count": 26,
     "metadata": {},
     "output_type": "execute_result"
    }
   ],
   "source": [
    "df_clean.head()"
   ]
  },
  {
   "cell_type": "code",
   "execution_count": 27,
   "metadata": {},
   "outputs": [
    {
     "data": {
      "text/plain": [
       "array(['One Day', 'Three Day', 'Two Day', 'Five Day', 'Six Day',\n",
       "       'Four Day'], dtype=object)"
      ]
     },
     "execution_count": 27,
     "metadata": {},
     "output_type": "execute_result"
    }
   ],
   "source": [
    "df_clean['no_of_days_stays'].unique()"
   ]
  },
  {
   "cell_type": "code",
   "execution_count": 28,
   "metadata": {},
   "outputs": [],
   "source": [
    "day_mapping={\n",
    "    'One Day':1,\n",
    "    'Two Day':2,\n",
    "    'Three Day':3,\n",
    "    'Four Day':4,\n",
    "     'Five Day':5,\n",
    "     'Six Day':6\n",
    "}"
   ]
  },
  {
   "cell_type": "code",
   "execution_count": 29,
   "metadata": {},
   "outputs": [],
   "source": [
    "df_clean['no_of_days_stays'] = df_clean['no_of_days_stays'].map(day_mapping)"
   ]
  },
  {
   "cell_type": "code",
   "execution_count": 30,
   "metadata": {},
   "outputs": [
    {
     "data": {
      "text/html": [
       "<div>\n",
       "<style scoped>\n",
       "    .dataframe tbody tr th:only-of-type {\n",
       "        vertical-align: middle;\n",
       "    }\n",
       "\n",
       "    .dataframe tbody tr th {\n",
       "        vertical-align: top;\n",
       "    }\n",
       "\n",
       "    .dataframe thead th {\n",
       "        text-align: right;\n",
       "    }\n",
       "</style>\n",
       "<table border=\"1\" class=\"dataframe\">\n",
       "  <thead>\n",
       "    <tr style=\"text-align: right;\">\n",
       "      <th></th>\n",
       "      <th>no_guests</th>\n",
       "      <th>room_category</th>\n",
       "      <th>booking_platform</th>\n",
       "      <th>ratings_given</th>\n",
       "      <th>booking_status</th>\n",
       "      <th>revenue_generated</th>\n",
       "      <th>revenue_realized</th>\n",
       "      <th>booking_date_month</th>\n",
       "      <th>check_in_date_month_name</th>\n",
       "      <th>no_of_days_stays</th>\n",
       "      <th>check_out_date_month_name</th>\n",
       "    </tr>\n",
       "  </thead>\n",
       "  <tbody>\n",
       "    <tr>\n",
       "      <th>0</th>\n",
       "      <td>3</td>\n",
       "      <td>1</td>\n",
       "      <td>1</td>\n",
       "      <td>1.000000</td>\n",
       "      <td>1</td>\n",
       "      <td>10010</td>\n",
       "      <td>10010</td>\n",
       "      <td>4</td>\n",
       "      <td>5</td>\n",
       "      <td>1</td>\n",
       "      <td>5</td>\n",
       "    </tr>\n",
       "    <tr>\n",
       "      <th>1</th>\n",
       "      <td>2</td>\n",
       "      <td>1</td>\n",
       "      <td>7</td>\n",
       "      <td>3.619004</td>\n",
       "      <td>2</td>\n",
       "      <td>9100</td>\n",
       "      <td>3640</td>\n",
       "      <td>4</td>\n",
       "      <td>5</td>\n",
       "      <td>1</td>\n",
       "      <td>5</td>\n",
       "    </tr>\n",
       "    <tr>\n",
       "      <th>2</th>\n",
       "      <td>2</td>\n",
       "      <td>1</td>\n",
       "      <td>4</td>\n",
       "      <td>5.000000</td>\n",
       "      <td>1</td>\n",
       "      <td>9100</td>\n",
       "      <td>9100</td>\n",
       "      <td>4</td>\n",
       "      <td>5</td>\n",
       "      <td>3</td>\n",
       "      <td>5</td>\n",
       "    </tr>\n",
       "    <tr>\n",
       "      <th>3</th>\n",
       "      <td>2</td>\n",
       "      <td>1</td>\n",
       "      <td>7</td>\n",
       "      <td>3.619004</td>\n",
       "      <td>2</td>\n",
       "      <td>9100</td>\n",
       "      <td>3640</td>\n",
       "      <td>4</td>\n",
       "      <td>5</td>\n",
       "      <td>1</td>\n",
       "      <td>5</td>\n",
       "    </tr>\n",
       "    <tr>\n",
       "      <th>4</th>\n",
       "      <td>4</td>\n",
       "      <td>1</td>\n",
       "      <td>1</td>\n",
       "      <td>5.000000</td>\n",
       "      <td>1</td>\n",
       "      <td>10920</td>\n",
       "      <td>10920</td>\n",
       "      <td>4</td>\n",
       "      <td>5</td>\n",
       "      <td>1</td>\n",
       "      <td>5</td>\n",
       "    </tr>\n",
       "  </tbody>\n",
       "</table>\n",
       "</div>"
      ],
      "text/plain": [
       "   no_guests  room_category  booking_platform  ratings_given  booking_status  \\\n",
       "0          3              1                 1       1.000000               1   \n",
       "1          2              1                 7       3.619004               2   \n",
       "2          2              1                 4       5.000000               1   \n",
       "3          2              1                 7       3.619004               2   \n",
       "4          4              1                 1       5.000000               1   \n",
       "\n",
       "   revenue_generated  revenue_realized  booking_date_month  \\\n",
       "0              10010             10010                   4   \n",
       "1               9100              3640                   4   \n",
       "2               9100              9100                   4   \n",
       "3               9100              3640                   4   \n",
       "4              10920             10920                   4   \n",
       "\n",
       "   check_in_date_month_name  no_of_days_stays  check_out_date_month_name  \n",
       "0                         5                 1                          5  \n",
       "1                         5                 1                          5  \n",
       "2                         5                 3                          5  \n",
       "3                         5                 1                          5  \n",
       "4                         5                 1                          5  "
      ]
     },
     "execution_count": 30,
     "metadata": {},
     "output_type": "execute_result"
    }
   ],
   "source": [
    "df_clean.head()"
   ]
  },
  {
   "cell_type": "code",
   "execution_count": 31,
   "metadata": {},
   "outputs": [],
   "source": [
    "#  Checking the correlation of the columns in the dataframe\n",
    "# sns.heatmap(df_clean,annot=True,fmt=\".2f\")"
   ]
  },
  {
   "cell_type": "code",
   "execution_count": 32,
   "metadata": {},
   "outputs": [],
   "source": [
    "df_clean.to_csv('df_model.csv',index=False)"
   ]
  },
  {
   "cell_type": "code",
   "execution_count": 33,
   "metadata": {},
   "outputs": [],
   "source": [
    "df_model = pd.read_csv(r'df_model.csv')"
   ]
  },
  {
   "cell_type": "code",
   "execution_count": 34,
   "metadata": {},
   "outputs": [
    {
     "data": {
      "text/html": [
       "<div>\n",
       "<style scoped>\n",
       "    .dataframe tbody tr th:only-of-type {\n",
       "        vertical-align: middle;\n",
       "    }\n",
       "\n",
       "    .dataframe tbody tr th {\n",
       "        vertical-align: top;\n",
       "    }\n",
       "\n",
       "    .dataframe thead th {\n",
       "        text-align: right;\n",
       "    }\n",
       "</style>\n",
       "<table border=\"1\" class=\"dataframe\">\n",
       "  <thead>\n",
       "    <tr style=\"text-align: right;\">\n",
       "      <th></th>\n",
       "      <th>no_guests</th>\n",
       "      <th>room_category</th>\n",
       "      <th>booking_platform</th>\n",
       "      <th>ratings_given</th>\n",
       "      <th>booking_status</th>\n",
       "      <th>revenue_generated</th>\n",
       "      <th>revenue_realized</th>\n",
       "      <th>booking_date_month</th>\n",
       "      <th>check_in_date_month_name</th>\n",
       "      <th>no_of_days_stays</th>\n",
       "      <th>check_out_date_month_name</th>\n",
       "    </tr>\n",
       "  </thead>\n",
       "  <tbody>\n",
       "    <tr>\n",
       "      <th>0</th>\n",
       "      <td>3</td>\n",
       "      <td>1</td>\n",
       "      <td>1</td>\n",
       "      <td>1.000000</td>\n",
       "      <td>1</td>\n",
       "      <td>10010</td>\n",
       "      <td>10010</td>\n",
       "      <td>4</td>\n",
       "      <td>5</td>\n",
       "      <td>1</td>\n",
       "      <td>5</td>\n",
       "    </tr>\n",
       "    <tr>\n",
       "      <th>1</th>\n",
       "      <td>2</td>\n",
       "      <td>1</td>\n",
       "      <td>7</td>\n",
       "      <td>3.619004</td>\n",
       "      <td>2</td>\n",
       "      <td>9100</td>\n",
       "      <td>3640</td>\n",
       "      <td>4</td>\n",
       "      <td>5</td>\n",
       "      <td>1</td>\n",
       "      <td>5</td>\n",
       "    </tr>\n",
       "    <tr>\n",
       "      <th>2</th>\n",
       "      <td>2</td>\n",
       "      <td>1</td>\n",
       "      <td>4</td>\n",
       "      <td>5.000000</td>\n",
       "      <td>1</td>\n",
       "      <td>9100</td>\n",
       "      <td>9100</td>\n",
       "      <td>4</td>\n",
       "      <td>5</td>\n",
       "      <td>3</td>\n",
       "      <td>5</td>\n",
       "    </tr>\n",
       "    <tr>\n",
       "      <th>3</th>\n",
       "      <td>2</td>\n",
       "      <td>1</td>\n",
       "      <td>7</td>\n",
       "      <td>3.619004</td>\n",
       "      <td>2</td>\n",
       "      <td>9100</td>\n",
       "      <td>3640</td>\n",
       "      <td>4</td>\n",
       "      <td>5</td>\n",
       "      <td>1</td>\n",
       "      <td>5</td>\n",
       "    </tr>\n",
       "    <tr>\n",
       "      <th>4</th>\n",
       "      <td>4</td>\n",
       "      <td>1</td>\n",
       "      <td>1</td>\n",
       "      <td>5.000000</td>\n",
       "      <td>1</td>\n",
       "      <td>10920</td>\n",
       "      <td>10920</td>\n",
       "      <td>4</td>\n",
       "      <td>5</td>\n",
       "      <td>1</td>\n",
       "      <td>5</td>\n",
       "    </tr>\n",
       "  </tbody>\n",
       "</table>\n",
       "</div>"
      ],
      "text/plain": [
       "   no_guests  room_category  booking_platform  ratings_given  booking_status  \\\n",
       "0          3              1                 1       1.000000               1   \n",
       "1          2              1                 7       3.619004               2   \n",
       "2          2              1                 4       5.000000               1   \n",
       "3          2              1                 7       3.619004               2   \n",
       "4          4              1                 1       5.000000               1   \n",
       "\n",
       "   revenue_generated  revenue_realized  booking_date_month  \\\n",
       "0              10010             10010                   4   \n",
       "1               9100              3640                   4   \n",
       "2               9100              9100                   4   \n",
       "3               9100              3640                   4   \n",
       "4              10920             10920                   4   \n",
       "\n",
       "   check_in_date_month_name  no_of_days_stays  check_out_date_month_name  \n",
       "0                         5                 1                          5  \n",
       "1                         5                 1                          5  \n",
       "2                         5                 3                          5  \n",
       "3                         5                 1                          5  \n",
       "4                         5                 1                          5  "
      ]
     },
     "execution_count": 34,
     "metadata": {},
     "output_type": "execute_result"
    }
   ],
   "source": [
    "df_model.head()"
   ]
  },
  {
   "cell_type": "code",
   "execution_count": 35,
   "metadata": {},
   "outputs": [
    {
     "data": {
      "text/plain": [
       "(134590, 11)"
      ]
     },
     "execution_count": 35,
     "metadata": {},
     "output_type": "execute_result"
    }
   ],
   "source": [
    "df_model.shape"
   ]
  },
  {
   "cell_type": "code",
   "execution_count": 36,
   "metadata": {},
   "outputs": [],
   "source": [
    "# round(0.01*1134590)"
   ]
  },
  {
   "cell_type": "code",
   "execution_count": 37,
   "metadata": {},
   "outputs": [],
   "source": [
    "# df_model_sample = df_model.sample(frac=0.001)"
   ]
  },
  {
   "cell_type": "code",
   "execution_count": 38,
   "metadata": {},
   "outputs": [],
   "source": [
    "# df_model_sample.head()"
   ]
  },
  {
   "cell_type": "code",
   "execution_count": 39,
   "metadata": {},
   "outputs": [
    {
     "data": {
      "text/html": [
       "<div>\n",
       "<style scoped>\n",
       "    .dataframe tbody tr th:only-of-type {\n",
       "        vertical-align: middle;\n",
       "    }\n",
       "\n",
       "    .dataframe tbody tr th {\n",
       "        vertical-align: top;\n",
       "    }\n",
       "\n",
       "    .dataframe thead th {\n",
       "        text-align: right;\n",
       "    }\n",
       "</style>\n",
       "<table border=\"1\" class=\"dataframe\">\n",
       "  <thead>\n",
       "    <tr style=\"text-align: right;\">\n",
       "      <th></th>\n",
       "      <th>no_guests</th>\n",
       "      <th>room_category</th>\n",
       "      <th>booking_platform</th>\n",
       "      <th>ratings_given</th>\n",
       "      <th>booking_status</th>\n",
       "      <th>revenue_generated</th>\n",
       "      <th>revenue_realized</th>\n",
       "      <th>booking_date_month</th>\n",
       "      <th>check_in_date_month_name</th>\n",
       "      <th>no_of_days_stays</th>\n",
       "      <th>check_out_date_month_name</th>\n",
       "    </tr>\n",
       "  </thead>\n",
       "  <tbody>\n",
       "    <tr>\n",
       "      <th>no_guests</th>\n",
       "      <td>1.000000</td>\n",
       "      <td>0.064047</td>\n",
       "      <td>-0.001190</td>\n",
       "      <td>-1.981883e-03</td>\n",
       "      <td>-2.298765e-03</td>\n",
       "      <td>0.215558</td>\n",
       "      <td>0.170780</td>\n",
       "      <td>-0.010536</td>\n",
       "      <td>0.001179</td>\n",
       "      <td>0.077236</td>\n",
       "      <td>0.005857</td>\n",
       "    </tr>\n",
       "    <tr>\n",
       "      <th>room_category</th>\n",
       "      <td>0.064047</td>\n",
       "      <td>1.000000</td>\n",
       "      <td>0.003069</td>\n",
       "      <td>3.654953e-03</td>\n",
       "      <td>-2.622546e-03</td>\n",
       "      <td>0.824697</td>\n",
       "      <td>0.655257</td>\n",
       "      <td>0.000809</td>\n",
       "      <td>0.000134</td>\n",
       "      <td>-0.003739</td>\n",
       "      <td>-0.000981</td>\n",
       "    </tr>\n",
       "    <tr>\n",
       "      <th>booking_platform</th>\n",
       "      <td>-0.001190</td>\n",
       "      <td>0.003069</td>\n",
       "      <td>1.000000</td>\n",
       "      <td>7.647295e-04</td>\n",
       "      <td>2.151140e-03</td>\n",
       "      <td>0.001714</td>\n",
       "      <td>0.003258</td>\n",
       "      <td>-0.001905</td>\n",
       "      <td>-0.001923</td>\n",
       "      <td>0.001046</td>\n",
       "      <td>-0.002142</td>\n",
       "    </tr>\n",
       "    <tr>\n",
       "      <th>ratings_given</th>\n",
       "      <td>-0.001982</td>\n",
       "      <td>0.003655</td>\n",
       "      <td>0.000765</td>\n",
       "      <td>1.000000e+00</td>\n",
       "      <td>-8.133810e-18</td>\n",
       "      <td>0.002717</td>\n",
       "      <td>0.002531</td>\n",
       "      <td>-0.002638</td>\n",
       "      <td>-0.002057</td>\n",
       "      <td>0.002183</td>\n",
       "      <td>-0.000722</td>\n",
       "    </tr>\n",
       "    <tr>\n",
       "      <th>booking_status</th>\n",
       "      <td>-0.002299</td>\n",
       "      <td>-0.002623</td>\n",
       "      <td>0.002151</td>\n",
       "      <td>-8.133810e-18</td>\n",
       "      <td>1.000000e+00</td>\n",
       "      <td>-0.002458</td>\n",
       "      <td>-0.366893</td>\n",
       "      <td>-0.006850</td>\n",
       "      <td>-0.007158</td>\n",
       "      <td>-0.006813</td>\n",
       "      <td>-0.007465</td>\n",
       "    </tr>\n",
       "    <tr>\n",
       "      <th>revenue_generated</th>\n",
       "      <td>0.215558</td>\n",
       "      <td>0.824697</td>\n",
       "      <td>0.001714</td>\n",
       "      <td>2.716968e-03</td>\n",
       "      <td>-2.457718e-03</td>\n",
       "      <td>1.000000</td>\n",
       "      <td>0.794316</td>\n",
       "      <td>0.002404</td>\n",
       "      <td>0.000875</td>\n",
       "      <td>-0.010277</td>\n",
       "      <td>-0.000136</td>\n",
       "    </tr>\n",
       "    <tr>\n",
       "      <th>revenue_realized</th>\n",
       "      <td>0.170780</td>\n",
       "      <td>0.655257</td>\n",
       "      <td>0.003258</td>\n",
       "      <td>2.530595e-03</td>\n",
       "      <td>-3.668929e-01</td>\n",
       "      <td>0.794316</td>\n",
       "      <td>1.000000</td>\n",
       "      <td>0.004342</td>\n",
       "      <td>0.002425</td>\n",
       "      <td>-0.005203</td>\n",
       "      <td>0.002095</td>\n",
       "    </tr>\n",
       "    <tr>\n",
       "      <th>booking_date_month</th>\n",
       "      <td>-0.010536</td>\n",
       "      <td>0.000809</td>\n",
       "      <td>-0.001905</td>\n",
       "      <td>-2.638227e-03</td>\n",
       "      <td>-6.850234e-03</td>\n",
       "      <td>0.002404</td>\n",
       "      <td>0.004342</td>\n",
       "      <td>1.000000</td>\n",
       "      <td>0.928303</td>\n",
       "      <td>-0.010404</td>\n",
       "      <td>0.896281</td>\n",
       "    </tr>\n",
       "    <tr>\n",
       "      <th>check_in_date_month_name</th>\n",
       "      <td>0.001179</td>\n",
       "      <td>0.000134</td>\n",
       "      <td>-0.001923</td>\n",
       "      <td>-2.057349e-03</td>\n",
       "      <td>-7.157771e-03</td>\n",
       "      <td>0.000875</td>\n",
       "      <td>0.002425</td>\n",
       "      <td>0.928303</td>\n",
       "      <td>1.000000</td>\n",
       "      <td>0.001799</td>\n",
       "      <td>0.952459</td>\n",
       "    </tr>\n",
       "    <tr>\n",
       "      <th>no_of_days_stays</th>\n",
       "      <td>0.077236</td>\n",
       "      <td>-0.003739</td>\n",
       "      <td>0.001046</td>\n",
       "      <td>2.183336e-03</td>\n",
       "      <td>-6.812893e-03</td>\n",
       "      <td>-0.010277</td>\n",
       "      <td>-0.005203</td>\n",
       "      <td>-0.010404</td>\n",
       "      <td>0.001799</td>\n",
       "      <td>1.000000</td>\n",
       "      <td>0.068497</td>\n",
       "    </tr>\n",
       "    <tr>\n",
       "      <th>check_out_date_month_name</th>\n",
       "      <td>0.005857</td>\n",
       "      <td>-0.000981</td>\n",
       "      <td>-0.002142</td>\n",
       "      <td>-7.217737e-04</td>\n",
       "      <td>-7.464972e-03</td>\n",
       "      <td>-0.000136</td>\n",
       "      <td>0.002095</td>\n",
       "      <td>0.896281</td>\n",
       "      <td>0.952459</td>\n",
       "      <td>0.068497</td>\n",
       "      <td>1.000000</td>\n",
       "    </tr>\n",
       "  </tbody>\n",
       "</table>\n",
       "</div>"
      ],
      "text/plain": [
       "                           no_guests  room_category  booking_platform  \\\n",
       "no_guests                   1.000000       0.064047         -0.001190   \n",
       "room_category               0.064047       1.000000          0.003069   \n",
       "booking_platform           -0.001190       0.003069          1.000000   \n",
       "ratings_given              -0.001982       0.003655          0.000765   \n",
       "booking_status             -0.002299      -0.002623          0.002151   \n",
       "revenue_generated           0.215558       0.824697          0.001714   \n",
       "revenue_realized            0.170780       0.655257          0.003258   \n",
       "booking_date_month         -0.010536       0.000809         -0.001905   \n",
       "check_in_date_month_name    0.001179       0.000134         -0.001923   \n",
       "no_of_days_stays            0.077236      -0.003739          0.001046   \n",
       "check_out_date_month_name   0.005857      -0.000981         -0.002142   \n",
       "\n",
       "                           ratings_given  booking_status  revenue_generated  \\\n",
       "no_guests                  -1.981883e-03   -2.298765e-03           0.215558   \n",
       "room_category               3.654953e-03   -2.622546e-03           0.824697   \n",
       "booking_platform            7.647295e-04    2.151140e-03           0.001714   \n",
       "ratings_given               1.000000e+00   -8.133810e-18           0.002717   \n",
       "booking_status             -8.133810e-18    1.000000e+00          -0.002458   \n",
       "revenue_generated           2.716968e-03   -2.457718e-03           1.000000   \n",
       "revenue_realized            2.530595e-03   -3.668929e-01           0.794316   \n",
       "booking_date_month         -2.638227e-03   -6.850234e-03           0.002404   \n",
       "check_in_date_month_name   -2.057349e-03   -7.157771e-03           0.000875   \n",
       "no_of_days_stays            2.183336e-03   -6.812893e-03          -0.010277   \n",
       "check_out_date_month_name  -7.217737e-04   -7.464972e-03          -0.000136   \n",
       "\n",
       "                           revenue_realized  booking_date_month  \\\n",
       "no_guests                          0.170780           -0.010536   \n",
       "room_category                      0.655257            0.000809   \n",
       "booking_platform                   0.003258           -0.001905   \n",
       "ratings_given                      0.002531           -0.002638   \n",
       "booking_status                    -0.366893           -0.006850   \n",
       "revenue_generated                  0.794316            0.002404   \n",
       "revenue_realized                   1.000000            0.004342   \n",
       "booking_date_month                 0.004342            1.000000   \n",
       "check_in_date_month_name           0.002425            0.928303   \n",
       "no_of_days_stays                  -0.005203           -0.010404   \n",
       "check_out_date_month_name          0.002095            0.896281   \n",
       "\n",
       "                           check_in_date_month_name  no_of_days_stays  \\\n",
       "no_guests                                  0.001179          0.077236   \n",
       "room_category                              0.000134         -0.003739   \n",
       "booking_platform                          -0.001923          0.001046   \n",
       "ratings_given                             -0.002057          0.002183   \n",
       "booking_status                            -0.007158         -0.006813   \n",
       "revenue_generated                          0.000875         -0.010277   \n",
       "revenue_realized                           0.002425         -0.005203   \n",
       "booking_date_month                         0.928303         -0.010404   \n",
       "check_in_date_month_name                   1.000000          0.001799   \n",
       "no_of_days_stays                           0.001799          1.000000   \n",
       "check_out_date_month_name                  0.952459          0.068497   \n",
       "\n",
       "                           check_out_date_month_name  \n",
       "no_guests                                   0.005857  \n",
       "room_category                              -0.000981  \n",
       "booking_platform                           -0.002142  \n",
       "ratings_given                              -0.000722  \n",
       "booking_status                             -0.007465  \n",
       "revenue_generated                          -0.000136  \n",
       "revenue_realized                            0.002095  \n",
       "booking_date_month                          0.896281  \n",
       "check_in_date_month_name                    0.952459  \n",
       "no_of_days_stays                            0.068497  \n",
       "check_out_date_month_name                   1.000000  "
      ]
     },
     "execution_count": 39,
     "metadata": {},
     "output_type": "execute_result"
    }
   ],
   "source": [
    "df_model.corr()"
   ]
  },
  {
   "cell_type": "code",
   "execution_count": 40,
   "metadata": {},
   "outputs": [],
   "source": [
    "# From the above table we can filter out theat column which have signigicanta amount of coorelation with the target column\n",
    "# Target Column:- revenue_realized\n",
    "# Name of the columns which have the significant correlation with the target column\n",
    "# Room Category->62%\n",
    "# Booking Status->43%\n",
    "# Revenue Generated->73%\n",
    "# No_of_guets->17%"
   ]
  },
  {
   "cell_type": "code",
   "execution_count": 41,
   "metadata": {},
   "outputs": [],
   "source": [
    "# Dropping the rest of the columns which are not highly correlated\n",
    "df_model.drop(['booking_platform','ratings_given','booking_date_month','check_in_date_month_name','no_of_days_stays','check_out_date_month_name'],axis=1,inplace=True)"
   ]
  },
  {
   "cell_type": "code",
   "execution_count": 42,
   "metadata": {},
   "outputs": [
    {
     "data": {
      "text/html": [
       "<div>\n",
       "<style scoped>\n",
       "    .dataframe tbody tr th:only-of-type {\n",
       "        vertical-align: middle;\n",
       "    }\n",
       "\n",
       "    .dataframe tbody tr th {\n",
       "        vertical-align: top;\n",
       "    }\n",
       "\n",
       "    .dataframe thead th {\n",
       "        text-align: right;\n",
       "    }\n",
       "</style>\n",
       "<table border=\"1\" class=\"dataframe\">\n",
       "  <thead>\n",
       "    <tr style=\"text-align: right;\">\n",
       "      <th></th>\n",
       "      <th>no_guests</th>\n",
       "      <th>room_category</th>\n",
       "      <th>booking_status</th>\n",
       "      <th>revenue_generated</th>\n",
       "      <th>revenue_realized</th>\n",
       "    </tr>\n",
       "  </thead>\n",
       "  <tbody>\n",
       "    <tr>\n",
       "      <th>0</th>\n",
       "      <td>3</td>\n",
       "      <td>1</td>\n",
       "      <td>1</td>\n",
       "      <td>10010</td>\n",
       "      <td>10010</td>\n",
       "    </tr>\n",
       "    <tr>\n",
       "      <th>1</th>\n",
       "      <td>2</td>\n",
       "      <td>1</td>\n",
       "      <td>2</td>\n",
       "      <td>9100</td>\n",
       "      <td>3640</td>\n",
       "    </tr>\n",
       "    <tr>\n",
       "      <th>2</th>\n",
       "      <td>2</td>\n",
       "      <td>1</td>\n",
       "      <td>1</td>\n",
       "      <td>9100</td>\n",
       "      <td>9100</td>\n",
       "    </tr>\n",
       "    <tr>\n",
       "      <th>3</th>\n",
       "      <td>2</td>\n",
       "      <td>1</td>\n",
       "      <td>2</td>\n",
       "      <td>9100</td>\n",
       "      <td>3640</td>\n",
       "    </tr>\n",
       "    <tr>\n",
       "      <th>4</th>\n",
       "      <td>4</td>\n",
       "      <td>1</td>\n",
       "      <td>1</td>\n",
       "      <td>10920</td>\n",
       "      <td>10920</td>\n",
       "    </tr>\n",
       "  </tbody>\n",
       "</table>\n",
       "</div>"
      ],
      "text/plain": [
       "   no_guests  room_category  booking_status  revenue_generated  \\\n",
       "0          3              1               1              10010   \n",
       "1          2              1               2               9100   \n",
       "2          2              1               1               9100   \n",
       "3          2              1               2               9100   \n",
       "4          4              1               1              10920   \n",
       "\n",
       "   revenue_realized  \n",
       "0             10010  \n",
       "1              3640  \n",
       "2              9100  \n",
       "3              3640  \n",
       "4             10920  "
      ]
     },
     "execution_count": 42,
     "metadata": {},
     "output_type": "execute_result"
    }
   ],
   "source": [
    "df_model.head()"
   ]
  },
  {
   "cell_type": "code",
   "execution_count": 43,
   "metadata": {},
   "outputs": [],
   "source": [
    "# Now we will do the train_test_split\n",
    "# Importing the Library for the train test split\n",
    "# Seperating the dependent and independent columns\n",
    "X=df_model.drop('revenue_realized',axis=1)\n",
    "y=df_model['revenue_realized']\n",
    "from sklearn.model_selection import train_test_split\n",
    "X_train,X_test,y_train,y_test=train_test_split(X,y,test_size=0.2,random_state=2042)"
   ]
  },
  {
   "cell_type": "code",
   "execution_count": 44,
   "metadata": {},
   "outputs": [
    {
     "name": "stdout",
     "output_type": "stream",
     "text": [
      "Shape of the X_train is (107672, 4)\n",
      "Shape of the X_test is (26918, 4)\n",
      "Shape of the y_train is (107672,)\n",
      "Shape of the y_test is (26918,)\n"
     ]
    }
   ],
   "source": [
    "print(\"Shape of the X_train is {}\".format(X_train.shape))\n",
    "print(\"Shape of the X_test is {}\".format(X_test.shape))\n",
    "print(\"Shape of the y_train is {}\".format(y_train.shape))\n",
    "print(\"Shape of the y_test is {}\".format(y_test.shape))"
   ]
  },
  {
   "cell_type": "code",
   "execution_count": 45,
   "metadata": {},
   "outputs": [],
   "source": [
    "# Importing the regression machine learning libraries for the prediction\n",
    "from sklearn.linear_model import LinearRegression\n",
    "from sklearn.svm import SVR\n",
    "from sklearn.tree import DecisionTreeRegressor\n",
    "from sklearn.ensemble import RandomForestRegressor\n",
    "# Importing the library for checking the accuracy of the model\n",
    "from sklearn.metrics import r2_score"
   ]
  },
  {
   "cell_type": "code",
   "execution_count": 46,
   "metadata": {},
   "outputs": [],
   "source": [
    "def prediction(model) :\n",
    "    model.fit(X_train,y_train)\n",
    "    y_predict=model.predict(X_test)\n",
    "    print(\"Accuracy of the {} is {}\".format(model,r2_score(y_predict,y_test)))\n",
    "\n"
   ]
  },
  {
   "cell_type": "code",
   "execution_count": 47,
   "metadata": {},
   "outputs": [],
   "source": [
    "# prediction(LinearRegression())\n",
    "# prediction(SVR())\n",
    "# prediction(DecisionTreeRegressor())\n",
    "# prediction(RandomForestRegressor())"
   ]
  },
  {
   "cell_type": "code",
   "execution_count": 48,
   "metadata": {},
   "outputs": [],
   "source": [
    "# Final model is Random Forest Regreesor because it giving about 99% of the accuracy of and Descion Tree Regressor is giving 100% of the accuracy but if it is giving the 100% then might be the overfit model"
   ]
  },
  {
   "cell_type": "code",
   "execution_count": 49,
   "metadata": {},
   "outputs": [
    {
     "name": "stdout",
     "output_type": "stream",
     "text": [
      "Accuracy of the RandomForestRegressor() is 0.9999999804416276\n"
     ]
    }
   ],
   "source": [
    "model_final=RandomForestRegressor()\n",
    "prediction(model_final)"
   ]
  },
  {
   "cell_type": "code",
   "execution_count": 50,
   "metadata": {},
   "outputs": [],
   "source": [
    "# Saving the trained machine learning model into the pickel file\n",
    "import pickle\n",
    "with open(\"model_pickle.pkl\",\"wb\") as f:\n",
    "    pickle.dump(model_final,f)\n"
   ]
  },
  {
   "cell_type": "code",
   "execution_count": 51,
   "metadata": {},
   "outputs": [],
   "source": [
    "with open(\"model_pickle.pkl\",\"rb\") as f :\n",
    "    mp=pickle.load(f)"
   ]
  },
  {
   "cell_type": "code",
   "execution_count": 53,
   "metadata": {},
   "outputs": [
    {
     "name": "stdout",
     "output_type": "stream",
     "text": [
      "[9000.]\n"
     ]
    }
   ],
   "source": [
    "# mp.predict[[2,1,2,9100]]\n",
    "test=np.array([2,2,5,8975])\n",
    "test=test.reshape(1,-1)\n",
    "print(mp.predict(test))"
   ]
  },
  {
   "cell_type": "code",
   "execution_count": null,
   "metadata": {},
   "outputs": [],
   "source": []
  }
 ],
 "metadata": {
  "kernelspec": {
   "display_name": "Python 3",
   "language": "python",
   "name": "python3"
  },
  "language_info": {
   "codemirror_mode": {
    "name": "ipython",
    "version": 3
   },
   "file_extension": ".py",
   "mimetype": "text/x-python",
   "name": "python",
   "nbconvert_exporter": "python",
   "pygments_lexer": "ipython3",
   "version": "3.11.4"
  }
 },
 "nbformat": 4,
 "nbformat_minor": 2
}
